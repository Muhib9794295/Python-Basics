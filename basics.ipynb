{
 "cells": [
  {
   "cell_type": "code",
   "execution_count": 1,
   "id": "9b84e6b1",
   "metadata": {},
   "outputs": [
    {
     "name": "stdout",
     "output_type": "stream",
     "text": [
      "enter the first number400\n",
      "enter the second number100\n",
      "500\n",
      "subtraction of two numbers 300\n",
      "division of two numbers 4.0\n",
      "reminder of two numbers 0\n",
      "power of two numbers 160693804425899027554196209234116260252220299378279283530137600000000000000000000000000000000000000000000000000000000000000000000000000000000000000000000000000000000000000000000000000000000000000000000000000000000000000000000000000000000000000000000000000000000\n",
      "addition of two numbers 4\n"
     ]
    }
   ],
   "source": [
    "a=input(\"enter the first number\")\n",
    "a=int(a)\n",
    "b=input(\"enter the second number\")\n",
    "b=int(b)\n",
    "print(a+b)\n",
    "print(f\"subtraction of two numbers {a-b}\")\n",
    "print(f\"division of two numbers {a/b}\")\n",
    "print(f\"reminder of two numbers {a%b}\")\n",
    "print(f\"power of two numbers {a**b}\")\n",
    "print(f\"addition of two numbers {a//b}\")\n"
   ]
  },
  {
   "cell_type": "code",
   "execution_count": 4,
   "id": "11b1cb9f",
   "metadata": {},
   "outputs": [
    {
     "name": "stdout",
     "output_type": "stream",
     "text": [
      "addition of two number assign to c 10\n",
      "subtraction of two number assign to d -2\n",
      "multiplication of two number assign to e 24\n",
      "division  of two number assign to f 0.6666666666666666\n",
      "reminder of two number assign to g 4\n",
      "power of two number assign to h 4096\n",
      "quoteint of two number assign to i 0\n"
     ]
    }
   ],
   "source": [
    "\n",
    "c=a+b\n",
    "d=a-b\n",
    "e=a*b\n",
    "f=a/b\n",
    "g=a%b\n",
    "h=a**b\n",
    "i=a//b\n",
    "print(f\"addition of two number assign to c {c}\")\n",
    "print(f\"subtraction of two number assign to d {d}\")\n",
    "print(f\"multiplication of two number assign to e {e}\")\n",
    "print(f\"division  of two number assign to f {f}\")\n",
    "print(f\"reminder of two number assign to g {g}\")\n",
    "print(f\"power of two number assign to h {h}\")\n",
    "print(f\"quoteint of two number assign to i {i}\")"
   ]
  },
  {
   "cell_type": "code",
   "execution_count": 18,
   "id": "e3324017",
   "metadata": {},
   "outputs": [
    {
     "name": "stdout",
     "output_type": "stream",
     "text": [
      "10\n",
      "-2\n",
      "0.6666666666666666\n",
      "4\n",
      "4096\n",
      "0\n"
     ]
    }
   ],
   "source": [
    "c=a+b\n",
    "d=a-b\n",
    "e=a/b\n",
    "f=a%b\n",
    "g=a**b\n",
    "h=a//b\n",
    "print(c)\n",
    "print(d)\n",
    "print(e)\n",
    "print(f)\n",
    "print(g)\n",
    "print(h)"
   ]
  },
  {
   "cell_type": "code",
   "execution_count": 7,
   "id": "6dccd042",
   "metadata": {},
   "outputs": [
    {
     "name": "stdout",
     "output_type": "stream",
     "text": [
      "enter the number 7\n",
      "increment of a1\n",
      "increment of a2\n",
      "increment of a3\n",
      "increment of a4\n",
      "increment of a5\n",
      "increment of a6\n",
      "increment of a7\n"
     ]
    }
   ],
   "source": [
    "a=1\n",
    "b=int(input(\"enter the number \"))\n",
    "while(a<=b):\n",
    "    print(f\"increment of a{a}\")\n",
    "    a=a+1"
   ]
  },
  {
   "cell_type": "code",
   "execution_count": 8,
   "id": "a153ddad",
   "metadata": {},
   "outputs": [
    {
     "name": "stdout",
     "output_type": "stream",
     "text": [
      "True\n"
     ]
    }
   ],
   "source": [
    "q=3\n",
    "w=6\n",
    "print(q<w)"
   ]
  },
  {
   "cell_type": "code",
   "execution_count": 9,
   "id": "73faf5f7",
   "metadata": {},
   "outputs": [
    {
     "name": "stdout",
     "output_type": "stream",
     "text": [
      "False\n",
      "s is not eqaul to q\n"
     ]
    }
   ],
   "source": [
    "s=10\n",
    "q=12\n",
    "print(s is q)\n",
    "print(\"s is not eqaul to q\" )"
   ]
  },
  {
   "cell_type": "code",
   "execution_count": 12,
   "id": "fa518655",
   "metadata": {},
   "outputs": [
    {
     "name": "stdout",
     "output_type": "stream",
     "text": [
      "True\n",
      "2 is equal to 2\n"
     ]
    }
   ],
   "source": [
    "j=2\n",
    "l=2\n",
    "print(j is l)\n",
    "print(f\"{j} is equal to {l}\")"
   ]
  },
  {
   "cell_type": "code",
   "execution_count": 16,
   "id": "f23880a2",
   "metadata": {},
   "outputs": [
    {
     "name": "stdout",
     "output_type": "stream",
     "text": [
      "True\n"
     ]
    }
   ],
   "source": [
    "list1={1,2,3,4,5,6}\n",
    "print(5 in list)"
   ]
  },
  {
   "cell_type": "code",
   "execution_count": 17,
   "id": "2825cf49",
   "metadata": {},
   "outputs": [
    {
     "name": "stdout",
     "output_type": "stream",
     "text": [
      "False\n"
     ]
    }
   ],
   "source": [
    "list2={1,2,3,4,5,66}\n",
    "print(66 in list1)"
   ]
  },
  {
   "cell_type": "code",
   "execution_count": 20,
   "id": "9dc73f4a",
   "metadata": {},
   "outputs": [
    {
     "name": "stdout",
     "output_type": "stream",
     "text": [
      "My name is usman\n",
      "captilize the first letter of string\n",
      "length is 16\n"
     ]
    }
   ],
   "source": [
    "d='my name is usman'\n",
    "\n",
    "print(d.capitalize())\n",
    "print(\"captilize the first letter of string\")\n",
    "print(f\"length is {len(d)}\")"
   ]
  },
  {
   "cell_type": "code",
   "execution_count": 21,
   "id": "7585f474",
   "metadata": {},
   "outputs": [
    {
     "name": "stdout",
     "output_type": "stream",
     "text": [
      "Usman\n",
      "captilize the first letter of string\n",
      "length is 5\n"
     ]
    }
   ],
   "source": [
    "d='usman'\n",
    "\n",
    "print(d.capitalize())\n",
    "print(\"captilize the first letter of string\")\n",
    "print(f\"length is {len(d)}\")"
   ]
  },
  {
   "cell_type": "code",
   "execution_count": 23,
   "id": "d5ad4e68",
   "metadata": {},
   "outputs": [
    {
     "name": "stdout",
     "output_type": "stream",
     "text": [
      "I AM STUDY IN UET PESHAWAR IN THE DEPARTMENT OF ELECTRICAL ENGINEERING\n"
     ]
    }
   ],
   "source": [
    "d='i am study in uet peshawar in the department of electrical engineering'\n",
    "print(d.upper())"
   ]
  },
  {
   "cell_type": "code",
   "execution_count": 31,
   "id": "5532aa0a",
   "metadata": {},
   "outputs": [
    {
     "name": "stdout",
     "output_type": "stream",
     "text": [
      "(i am in uet peshawar electrical engineering)\n",
      "length of string: 45\n"
     ]
    }
   ],
   "source": [
    "s='(I AM IN UET PESHAWAR ELECTRICAL ENGINEERING)'\n",
    "print(s.lower())\n",
    "print(f\"length of string: {len(s)}\")"
   ]
  },
  {
   "cell_type": "code",
   "execution_count": 36,
   "id": "30229c7d",
   "metadata": {},
   "outputs": [
    {
     "name": "stdout",
     "output_type": "stream",
     "text": [
      "my brother name is M usman\n"
     ]
    }
   ],
   "source": [
    "f='my bro name is M usman'\n",
    "print(f.replace(\"bro\",\"brother\"))"
   ]
  },
  {
   "cell_type": "code",
   "execution_count": 44,
   "id": "957578bc",
   "metadata": {},
   "outputs": [
    {
     "name": "stdout",
     "output_type": "stream",
     "text": [
      "numbers of k in the string is 1\n"
     ]
    }
   ],
   "source": [
    "n='i  done my matric from the Government centiniel model high school and i scored 897 '\n",
    "print(f\"numbers of k in the string is {n.count('8')}\")"
   ]
  },
  {
   "cell_type": "code",
   "execution_count": 1,
   "id": "3c344a24",
   "metadata": {},
   "outputs": [
    {
     "name": "stdout",
     "output_type": "stream",
     "text": [
      "find the index number of c 28\n",
      "find the index number of 8 8\n",
      "find the index number of i 0\n",
      "find the index number of o 3\n",
      " shows the lenght of the string which is 29\n"
     ]
    }
   ],
   "source": [
    "j='i got 968 marks in the matric'\n",
    "print(f\"find the index number of c {j.find('c')}\")\n",
    "print(f\"find the index number of 8 {j.find('8')}\")\n",
    "print(f\"find the index number of i {j.find('i')}\")\n",
    "print(f\"find the index number of o {j.find('o')}\")\n",
    "print(f\" shows the lenght of the string which is {len(j)}\")"
   ]
  },
  {
   "cell_type": "code",
   "execution_count": 18,
   "id": "87b29717",
   "metadata": {},
   "outputs": [
    {
     "name": "stdout",
     "output_type": "stream",
     "text": [
      "[1, 1, 1, 2, 3, 4, 5, 6, 7, 8, 100]\n"
     ]
    }
   ],
   "source": [
    "list3=[1,1,1,2,3,4,5,6,7,8]\n",
    "list3.append(100)\n",
    "print(list3)"
   ]
  },
  {
   "cell_type": "code",
   "execution_count": 19,
   "id": "2be0578a",
   "metadata": {},
   "outputs": [
    {
     "name": "stdout",
     "output_type": "stream",
     "text": [
      "3\n"
     ]
    }
   ],
   "source": [
    "print(list3.count(1))"
   ]
  },
  {
   "cell_type": "code",
   "execution_count": 20,
   "id": "334caf08",
   "metadata": {},
   "outputs": [
    {
     "name": "stdout",
     "output_type": "stream",
     "text": [
      "9\n"
     ]
    }
   ],
   "source": [
    "print(list3.index(8))"
   ]
  },
  {
   "cell_type": "code",
   "execution_count": 21,
   "id": "4d4b538c",
   "metadata": {},
   "outputs": [
    {
     "name": "stdout",
     "output_type": "stream",
     "text": [
      "delete 4 from the list [1, 1, 1, 2, 4, 5, 6, 7, 8, 100]\n"
     ]
    }
   ],
   "source": [
    "list3.pop(4)\n",
    "print(f\"delete 4 from the list {list3}\")"
   ]
  },
  {
   "cell_type": "code",
   "execution_count": 22,
   "id": "eddab34b",
   "metadata": {},
   "outputs": [
    {
     "name": "stdout",
     "output_type": "stream",
     "text": [
      "remove the 4 from thr list3 [1, 1, 1, 2, 5, 6, 7, 8, 100]\n"
     ]
    }
   ],
   "source": [
    "list3.remove(4)\n",
    "print(f\"remove the 4 from thr list3 {list3}\")"
   ]
  },
  {
   "cell_type": "code",
   "execution_count": 23,
   "id": "f84950c6",
   "metadata": {},
   "outputs": [
    {
     "name": "stdout",
     "output_type": "stream",
     "text": [
      " the sequence of the list is reverse [100, 8, 7, 6, 5, 2, 1, 1, 1]\n"
     ]
    }
   ],
   "source": [
    "list3.reverse()\n",
    "print(f\" the sequence of the list is reverse {list3}\")"
   ]
  },
  {
   "cell_type": "code",
   "execution_count": 24,
   "id": "675f8cca",
   "metadata": {},
   "outputs": [
    {
     "name": "stdout",
     "output_type": "stream",
     "text": [
      "[2, 4, 6, 8, 9, 10, 11]\n"
     ]
    }
   ],
   "source": [
    "list4=[2,11,4,9,6,8,10]\n",
    "list4.sort()\n",
    "print(list4)"
   ]
  },
  {
   "cell_type": "code",
   "execution_count": 25,
   "id": "f017724b",
   "metadata": {},
   "outputs": [
    {
     "name": "stdout",
     "output_type": "stream",
     "text": [
      " shows the lenght of the list which is 7\n"
     ]
    }
   ],
   "source": [
    "print(f\" shows the lenght of the list which is {len(list4)}\")"
   ]
  },
  {
   "cell_type": "code",
   "execution_count": 42,
   "id": "9d8a834b",
   "metadata": {},
   "outputs": [
    {
     "name": "stdout",
     "output_type": "stream",
     "text": [
      "[1, 2, 33, 24, 52, 33, 71, 13, 5]\n",
      "no of repetition of 33 is 2\n",
      "integer 71 is at no 6\n",
      "delete the integer 3 [1, 2, 24, 52, 33, 71, 13, 5]\n",
      "remove the integer 33 [1, 2, 24, 52, 71, 13, 5]\n",
      "[5, 13, 71, 52, 24, 2, 1]\n",
      "[1, 2, 5, 13, 24, 52, 71]\n"
     ]
    }
   ],
   "source": [
    "list5=[1,2,33,24,52,33,71,13]\n",
    "list5.append(5)\n",
    "print(list5)\n",
    "print(f\"no of repetition of 33 is {list5.count(33)}\")\n",
    "print(f\"integer 71 is at no {list5.index(71)}\")\n",
    "list5.pop(2)\n",
    "print(f\"delete the integer 3 {list5}\")\n",
    "list5.remove(33)\n",
    "print(f\"remove the integer 33 {list5}\")\n",
    "list5.reverse()\n",
    "print(list5)\n",
    "list5.sort()\n",
    "print(list5)"
   ]
  },
  {
   "cell_type": "code",
   "execution_count": 5,
   "id": "d4ba1411",
   "metadata": {},
   "outputs": [
    {
     "name": "stdout",
     "output_type": "stream",
     "text": [
      "enter the digit6\n",
      "invalid\n"
     ]
    }
   ],
   "source": [
    "www=float(input(\"enter the digit\"))\n",
    "if(www==4 or www==4.1):\n",
    "    print(4)\n",
    "elif(www==5 or www==5.1):\n",
    "    print(5)\n",
    "else:\n",
    "    print(\"invalid\")"
   ]
  },
  {
   "cell_type": "code",
   "execution_count": null,
   "id": "bc06c4c7",
   "metadata": {},
   "outputs": [],
   "source": [
    "t_marks=int(input(\"enter total marks\"))\n",
    "o_marks=int(input(\"enter obtain marks\"))\n"
   ]
  }
 ],
 "metadata": {
  "kernelspec": {
   "display_name": "Python 3 (ipykernel)",
   "language": "python",
   "name": "python3"
  },
  "language_info": {
   "codemirror_mode": {
    "name": "ipython",
    "version": 3
   },
   "file_extension": ".py",
   "mimetype": "text/x-python",
   "name": "python",
   "nbconvert_exporter": "python",
   "pygments_lexer": "ipython3",
   "version": "3.10.9"
  }
 },
 "nbformat": 4,
 "nbformat_minor": 5
}
